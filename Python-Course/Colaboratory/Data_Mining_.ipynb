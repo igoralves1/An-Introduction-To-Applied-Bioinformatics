{
  "nbformat": 4,
  "nbformat_minor": 0,
  "metadata": {
    "colab": {
      "name": "Data_Mining .ipynb",
      "provenance": [],
      "authorship_tag": "ABX9TyNcgs9bfEv3zCkxSXQjaTCr",
      "include_colab_link": true
    },
    "kernelspec": {
      "name": "python3",
      "display_name": "Python 3"
    },
    "language_info": {
      "name": "python"
    }
  },
  "cells": [
    {
      "cell_type": "markdown",
      "metadata": {
        "id": "view-in-github",
        "colab_type": "text"
      },
      "source": [
        "<a href=\"https://colab.research.google.com/github/igoralves1/An-Introduction-To-Applied-Bioinformatics/blob/master/Python-Course/Colaboratory/Data_Mining_.ipynb\" target=\"_parent\"><img src=\"https://colab.research.google.com/assets/colab-badge.svg\" alt=\"Open In Colab\"/></a>"
      ]
    },
    {
      "cell_type": "markdown",
      "metadata": {
        "id": "x8y5AUbg3nPD"
      },
      "source": [
        "# **Import CSV file from GitHub repository**\n",
        "This is the [link](https://raw.githubusercontent.com/igoralves1/scrap2019-ncov/master/1581352943315.csv) to the repository "
      ]
    },
    {
      "cell_type": "code",
      "metadata": {
        "id": "Q99CWkm-2Xq2"
      },
      "source": [
        "import pandas as pd\n",
        "df_csv=pd.read_csv('https://raw.githubusercontent.com/igoralves1/scrap2019-ncov/master/1581352943315.csv')\n",
        "df_csv.tail()\n"
      ],
      "execution_count": null,
      "outputs": []
    },
    {
      "cell_type": "markdown",
      "metadata": {
        "id": "ADiP0WTF7ZQg"
      },
      "source": [
        "# **Import JSON file from GitHub repository**\n",
        "This is the [link](https://raw.githubusercontent.com/igoralves1/Dental-Informatics/main/Python-Course/data/example1.json) to the repository "
      ]
    },
    {
      "cell_type": "code",
      "metadata": {
        "id": "pxrUYl542Y_h"
      },
      "source": [
        "# Example 1\n",
        "data = {\n",
        "  \"Duration\":{\n",
        "    \"0\":60,\n",
        "    \"1\":60,\n",
        "    \"2\":60,\n",
        "    \"3\":45,\n",
        "    \"4\":45,\n",
        "    \"5\":60\n",
        "  },\n",
        "  \"Pulse\":{\n",
        "    \"0\":110,\n",
        "    \"1\":117,\n",
        "    \"2\":103,\n",
        "    \"3\":109,\n",
        "    \"4\":117,\n",
        "    \"5\":102\n",
        "  },\n",
        "  \"Maxpulse\":{\n",
        "    \"0\":130,\n",
        "    \"1\":145,\n",
        "    \"2\":135,\n",
        "    \"3\":175,\n",
        "    \"4\":148,\n",
        "    \"5\":127\n",
        "  },\n",
        "  \"Calories\":{\n",
        "    \"0\":409,\n",
        "    \"1\":479,\n",
        "    \"2\":340,\n",
        "    \"3\":282,\n",
        "    \"4\":406,\n",
        "    \"5\":300\n",
        "  }\n",
        "}\n",
        "df_json = pd.DataFrame(data)\n",
        "print(df_json)\n"
      ],
      "execution_count": null,
      "outputs": []
    },
    {
      "cell_type": "code",
      "metadata": {
        "id": "_EsY0_1R9tMp"
      },
      "source": [
        "# Example 2\n",
        "data = pd.read_json('https://raw.githubusercontent.com/igoralves1/Dental-Informatics/main/Python-Course/data/example1.json')\n",
        "df_json = pd.DataFrame(data)\n",
        "print(df_json)\n"
      ],
      "execution_count": null,
      "outputs": []
    }
  ]
}